{
 "cells": [
  {
   "cell_type": "markdown",
   "id": "ba4e4207-4694-4dfa-9917-1d1080db8c17",
   "metadata": {},
   "source": [
    "#### Question-1: The Treasure Hunt \n",
    "- You are a treasure hunter on an island filled with mysterious caves. Each cave has a number \r\n",
    "of treasures hidden inside. Write a function total_treasure(caves) that takes a list of integers \r\n",
    "representing the treasures in each cave and returns the total amount of treasure you can collec. "
   ]
  },
  {
   "cell_type": "code",
   "execution_count": 6,
   "id": "3ee7bdca-2f4c-48bf-a10c-b97714fd3fe8",
   "metadata": {},
   "outputs": [
    {
     "name": "stdin",
     "output_type": "stream",
     "text": [
      "Enter the number treasures each cave has:  1 2 3 4\n"
     ]
    },
    {
     "name": "stdout",
     "output_type": "stream",
     "text": [
      "Total treasure collected: 10\n"
     ]
    }
   ],
   "source": [
    "def total_treasure(caves):\n",
    "    total = sum(caves)\n",
    "    return total\n",
    "\n",
    "\n",
    "caves = input(\"Enter the number treasures each cave has: \")\n",
    "caves_list = list(map(int, caves.split()))\n",
    "\n",
    "print(\"Total treasure collected:\", total_treasure(caves_list))"
   ]
  },
  {
   "cell_type": "markdown",
   "id": "07115972-8620-4773-9f87-4cbaed7d5996",
   "metadata": {},
   "source": [
    "#### Question-2: The Magical Forest\n",
    "- In a magical forest, each creature has a name, and some names are the same. Write a \r\n",
    "function unique_creatures(creatures) that takes a list of creature names and returns a list of unique \r\n",
    "names to help you identify each creature without confusion. . "
   ]
  },
  {
   "cell_type": "code",
   "execution_count": 7,
   "id": "38dfe987-8107-4b8a-bab0-8e2f8bd32354",
   "metadata": {},
   "outputs": [
    {
     "name": "stdin",
     "output_type": "stream",
     "text": [
      "Enter creatures name:  tabib tabib alahi alahi herok tazim\n"
     ]
    },
    {
     "name": "stdout",
     "output_type": "stream",
     "text": [
      "Unique creatures list: ['tabib', 'alahi', 'herok', 'tazim']\n"
     ]
    }
   ],
   "source": [
    "def unique_creatures(creatures):\n",
    "    unique_creatures = set(creatures)\n",
    "    return list(unique_creatures)\n",
    "\n",
    "\n",
    "creatures = input(\"Enter creatures name: \")\n",
    "creatres_list = creatures.split()\n",
    "\n",
    "print(\"Unique creatures list:\", unique_creatures(creatres_list))"
   ]
  },
  {
   "cell_type": "markdown",
   "id": "bce75afa-a737-4741-b123-b7af16119639",
   "metadata": {},
   "source": [
    "#### Question-3:  The Robot Factory \n",
    "- In a robot factory, each robot has a unique serial number. Write a function \r\n",
    "is_serial_number_valid(serial_number) that checks if a given serial number follows the \r\n",
    "correct format (e.g., it must be 8 characters long and contain at least one letter and one number). . "
   ]
  },
  {
   "cell_type": "code",
   "execution_count": 8,
   "id": "0d43a226-f545-4b3d-adcb-a3667a5966a0",
   "metadata": {},
   "outputs": [
    {
     "name": "stdin",
     "output_type": "stream",
     "text": [
      "Enter creatures name:  123456A7\n"
     ]
    },
    {
     "name": "stdout",
     "output_type": "stream",
     "text": [
      "Valid Serial Number\n"
     ]
    }
   ],
   "source": [
    "def is_serial_number_valid(serial_number):\n",
    "    flag = False\n",
    "    letter = any(s.isalpha() for s in serial_number)\n",
    "    number = any(s.isdigit() for s in serial_number)\n",
    "    if len(serial_number) == 8 and letter and number:\n",
    "        return True\n",
    "        \n",
    "\n",
    "s_number = input(\"Enter creatures name: \")\n",
    "if(is_serial_number_valid(s_number)):\n",
    "    print(\"Valid Serial Number\")\n",
    "else:\n",
    "    print(\"Invalid Serial Number\")    \n"
   ]
  },
  {
   "cell_type": "markdown",
   "id": "5cbe87c8-97fd-4aef-a225-24e86aa1b271",
   "metadata": {},
   "source": [
    "#### Question-4: The Cosmic Explorer \n",
    "- As an explorer of the cosmos, you collect data about different planets. Write a function \r\n",
    "planet_summary(planets) that takes a dictionary where the keys are planet names and the values \r\n",
    "are their diameters, and returns a string summarizing the planet with the largest diamet. . "
   ]
  },
  {
   "cell_type": "code",
   "execution_count": 10,
   "id": "6ff49132-3298-4ac1-be27-7cb97f5b0920",
   "metadata": {},
   "outputs": [
    {
     "name": "stdout",
     "output_type": "stream",
     "text": [
      "LLargest planet is Jupiter with diameter 139820\n"
     ]
    }
   ],
   "source": [
    "def planet_summary(planets):\n",
    "    l_planet = max(planets, key=planets.get)\n",
    "    l_diameter = planets[l_planet]\n",
    "\n",
    "    return f\"LLargest planet is {l_planet} with diameter {l_diameter}\"\n",
    "\n",
    "planets = {\n",
    "    \"Mercury\": 4879,\n",
    "    \"Venus\": 12104,\n",
    "    \"Earth\": 12742,\n",
    "    \"Mars\": 6779,\n",
    "    \"Jupiter\": 139820,\n",
    "    \"Saturn\": 116460,\n",
    "    \"Uranus\": 50724,\n",
    "    \"Neptune\": 49244\n",
    "}\n",
    "\n",
    "print(planet_summary(planets))\n"
   ]
  }
 ],
 "metadata": {
  "kernelspec": {
   "display_name": "Python 3 (ipykernel)",
   "language": "python",
   "name": "python3"
  },
  "language_info": {
   "codemirror_mode": {
    "name": "ipython",
    "version": 3
   },
   "file_extension": ".py",
   "mimetype": "text/x-python",
   "name": "python",
   "nbconvert_exporter": "python",
   "pygments_lexer": "ipython3",
   "version": "3.12.4"
  }
 },
 "nbformat": 4,
 "nbformat_minor": 5
}
