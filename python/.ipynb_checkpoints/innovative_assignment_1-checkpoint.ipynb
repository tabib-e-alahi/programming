{
 "cells": [
  {
   "cell_type": "markdown",
   "id": "ba4e4207-4694-4dfa-9917-1d1080db8c17",
   "metadata": {},
   "source": [
    "#### Question-1: The Treasure Hunt \n",
    "- You are a treasure hunter on an island filled with mysterious caves. Each cave has a number \r\n",
    "of treasures hidden inside. Write a function total_treasure(caves) that takes a list of integers \r\n",
    "representing the treasures in each cave and returns the total amount of treasure you can collec. "
   ]
  },
  {
   "cell_type": "code",
   "execution_count": 6,
   "id": "3ee7bdca-2f4c-48bf-a10c-b97714fd3fe8",
   "metadata": {},
   "outputs": [
    {
     "name": "stdin",
     "output_type": "stream",
     "text": [
      "Enter the number treasures each cave has:  1 2 3 4\n"
     ]
    },
    {
     "name": "stdout",
     "output_type": "stream",
     "text": [
      "Total treasure collected: 10\n"
     ]
    }
   ],
   "source": [
    "def total_treasure(caves):\n",
    "    total = sum(caves)\n",
    "    return total\n",
    "\n",
    "\n",
    "caves = input(\"Enter the number treasures each cave has: \")\n",
    "caves_list = list(map(int, caves.split()))\n",
    "\n",
    "print(\"Total treasure collected:\", total_treasure(caves_list))"
   ]
  },
  {
   "cell_type": "markdown",
   "id": "07115972-8620-4773-9f87-4cbaed7d5996",
   "metadata": {},
   "source": [
    "#### Question-2: The Magical Forest\n",
    "- In a magical forest, each creature has a name, and some names are the same. Write a \r\n",
    "function unique_creatures(creatures) that takes a list of creature names and returns a list of unique \r\n",
    "names to help you identify each creature without confusion. . "
   ]
  },
  {
   "cell_type": "code",
   "execution_count": 7,
   "id": "38dfe987-8107-4b8a-bab0-8e2f8bd32354",
   "metadata": {},
   "outputs": [
    {
     "name": "stdin",
     "output_type": "stream",
     "text": [
      "Enter creatures name:  tabib tabib alahi alahi herok tazim\n"
     ]
    },
    {
     "name": "stdout",
     "output_type": "stream",
     "text": [
      "Unique creatures list: ['tabib', 'alahi', 'herok', 'tazim']\n"
     ]
    }
   ],
   "source": [
    "def unique_creatures(creatures):\n",
    "    unique_creatures = set(creatures)\n",
    "    return list(unique_creatures)\n",
    "\n",
    "\n",
    "creatures = input(\"Enter creatures name: \")\n",
    "creatres_list = creatures.split()\n",
    "\n",
    "print(\"Unique creatures list:\", unique_creatures(creatres_list))"
   ]
  },
  {
   "cell_type": "markdown",
   "id": "bce75afa-a737-4741-b123-b7af16119639",
   "metadata": {},
   "source": [
    "#### Question-3:  The Robot Factory \n",
    "- In a robot factory, each robot has a unique serial number. Write a function \r\n",
    "is_serial_number_valid(serial_number) that checks if a given serial number follows the \r\n",
    "correct format (e.g., it must be 8 characters long and contain at least one letter and one number). . "
   ]
  },
  {
   "cell_type": "code",
   "execution_count": 8,
   "id": "0d43a226-f545-4b3d-adcb-a3667a5966a0",
   "metadata": {},
   "outputs": [
    {
     "name": "stdin",
     "output_type": "stream",
     "text": [
      "Enter creatures name:  123456A7\n"
     ]
    },
    {
     "name": "stdout",
     "output_type": "stream",
     "text": [
      "Valid Serial Number\n"
     ]
    }
   ],
   "source": [
    "def is_serial_number_valid(serial_number):\n",
    "    flag = False\n",
    "    letter = any(s.isalpha() for s in serial_number)\n",
    "    number = any(s.isdigit() for s in serial_number)\n",
    "    if len(serial_number) == 8 and letter and number:\n",
    "        return True\n",
    "        \n",
    "\n",
    "s_number = input(\"Enter creatures name: \")\n",
    "if(is_serial_number_valid(s_number)):\n",
    "    print(\"Valid Serial Number\")\n",
    "else:\n",
    "    print(\"Invalid Serial Number\")    \n"
   ]
  },
  {
   "cell_type": "markdown",
   "id": "5cbe87c8-97fd-4aef-a225-24e86aa1b271",
   "metadata": {},
   "source": [
    "#### Question-4: The Cosmic Explorer \n",
    "- As an explorer of the cosmos, you collect data about different planets. Write a function \r\n",
    "planet_summary(planets) that takes a dictionary where the keys are planet names and the values \r\n",
    "are their diameters, and returns a string summarizing the planet with the largest diamet. . "
   ]
  },
  {
   "cell_type": "code",
   "execution_count": 10,
   "id": "6ff49132-3298-4ac1-be27-7cb97f5b0920",
   "metadata": {},
   "outputs": [
    {
     "name": "stdout",
     "output_type": "stream",
     "text": [
      "LLargest planet is Jupiter with diameter 139820\n"
     ]
    }
   ],
   "source": [
    "def planet_summary(planets):\n",
    "    l_planet = max(planets, key=planets.get)\n",
    "    l_diameter = planets[l_planet]\n",
    "\n",
    "    return f\"LLargest planet is {l_planet} with diameter {l_diameter}\"\n",
    "\n",
    "planets = {\n",
    "    \"Mercury\": 4879,\n",
    "    \"Venus\": 12104,\n",
    "    \"Earth\": 12742,\n",
    "    \"Mars\": 6779,\n",
    "    \"Jupiter\": 139820,\n",
    "    \"Saturn\": 116460,\n",
    "    \"Uranus\": 50724,\n",
    "    \"Neptune\": 49244\n",
    "}\n",
    "\n",
    "print(planet_summary(planets))\n"
   ]
  },
  {
   "cell_type": "markdown",
   "id": "607b9a8e-fa2b-4603-91b8-eca649ccddd7",
   "metadata": {},
   "source": [
    "#### Question-5: The Fantasy Game \n",
    "- In a fantasy game, you have a character with various skills. Write a function \r\n",
    "level_up(skills) that takes a dictionary of skills and their levels, and increases each skill level \r\n",
    "by 1. If a skill reaches level 10, it should be capped at 10. . "
   ]
  },
  {
   "cell_type": "code",
   "execution_count": 12,
   "id": "6ab3472e-d43d-40d5-8423-09d4ec606020",
   "metadata": {},
   "outputs": [
    {
     "name": "stdout",
     "output_type": "stream",
     "text": [
      "{'Strength': 8, 'Jumping': 10, 'Intelligence': 10, 'IQS': 6}\n"
     ]
    }
   ],
   "source": [
    "def level_up(skills):\n",
    "    for skill, level in skills.items():\n",
    "        if level < 10:\n",
    "            skills[skill] = level + 1\n",
    "    return skills\n",
    "\n",
    "skills = {\n",
    "    \"Strength\": 7,\n",
    "    \"Jumping\": 10,\n",
    "    \"Intelligence\": 10,\n",
    "    \"IQS\": 5\n",
    "}\n",
    "\n",
    "print(level_up(skills))"
   ]
  },
  {
   "cell_type": "markdown",
   "id": "ae1d678d-d1dc-4e49-80b2-1cb420631ea5",
   "metadata": {},
   "source": [
    "#### Question-6: The Bookstore Inventory \n",
    "- You own a bookstore and want to manage your inventory. Write a function \r\n",
    "inventory_summary(inventory) that takes a dictionary of book titles and their quantities, and \r\n",
    "returns a string listing all books that are out of stock. . "
   ]
  },
  {
   "cell_type": "code",
   "execution_count": 17,
   "id": "939a8ad7-f971-4d2d-9e20-e3761f84bf48",
   "metadata": {},
   "outputs": [
    {
     "name": "stdout",
     "output_type": "stream",
     "text": [
      "Out of stock books are: 1984, The Catcher in the Rye\n"
     ]
    }
   ],
   "source": [
    "def inventory_summary(inventory):\n",
    "    out = []\n",
    "    for key,value in inventory.items():\n",
    "        if(value == 0):\n",
    "            out.append(key)\n",
    "            \n",
    "    return \", \".join(out)\n",
    "\n",
    "inventory = {\n",
    "    \"The Great Gatsby\": 3,\n",
    "    \"1984\": 0,\n",
    "    \"To Kill a Mockingbird\": 5,\n",
    "    \"The Catcher in the Rye\": 0\n",
    "}\n",
    "\n",
    "print(f\"Out of stock books are: {inventory_summary(inventory)}\")\n"
   ]
  }
 ],
 "metadata": {
  "kernelspec": {
   "display_name": "Python 3 (ipykernel)",
   "language": "python",
   "name": "python3"
  },
  "language_info": {
   "codemirror_mode": {
    "name": "ipython",
    "version": 3
   },
   "file_extension": ".py",
   "mimetype": "text/x-python",
   "name": "python",
   "nbconvert_exporter": "python",
   "pygments_lexer": "ipython3",
   "version": "3.12.4"
  }
 },
 "nbformat": 4,
 "nbformat_minor": 5
}
